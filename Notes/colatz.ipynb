{
 "cells": [
  {
   "cell_type": "code",
   "execution_count": 57,
   "metadata": {},
   "outputs": [],
   "source": [
    "import matplotlib.pyplot as plt\n",
    "import numpy as np"
   ]
  },
  {
   "cell_type": "code",
   "execution_count": 102,
   "metadata": {},
   "outputs": [],
   "source": [
    "#define recursive equation\n",
    "def colatz(n, count=0):\n",
    "    if n == 1:\n",
    "        return count\n",
    "    \n",
    "    if n % 2 == 0:\n",
    "        return colatz(n // 2, count+1)\n",
    "    else:\n",
    "        return colatz(((3*n)+1 )//2, count+1)\n",
    "    \n",
    "\n",
    "def masters_modified(n, count=0):\n",
    "    print(n)\n",
    "    if n == 0:\n",
    "        return count\n",
    "    elif n % 2 == 0:\n",
    "        return masters_modified(n // 2, count+1)\n",
    "    else:\n",
    "        return masters_modified((2*n)//3, count+1)"
   ]
  },
  {
   "cell_type": "code",
   "execution_count": 103,
   "metadata": {},
   "outputs": [
    {
     "name": "stdout",
     "output_type": "stream",
     "text": [
      "1\n",
      "0\n",
      "2\n",
      "1\n",
      "0\n",
      "3\n",
      "2\n",
      "1\n",
      "0\n",
      "4\n",
      "2\n",
      "1\n",
      "0\n",
      "5\n",
      "3\n",
      "2\n",
      "1\n",
      "0\n",
      "6\n",
      "3\n",
      "2\n",
      "1\n",
      "0\n",
      "7\n",
      "4\n",
      "2\n",
      "1\n",
      "0\n",
      "8\n",
      "4\n",
      "2\n",
      "1\n",
      "0\n",
      "9\n",
      "6\n",
      "3\n",
      "2\n",
      "1\n",
      "0\n"
     ]
    }
   ],
   "source": [
    "for i in range(1, 10):\n",
    "    colatz(i)\n",
    "    masters_modified(i)"
   ]
  },
  {
   "cell_type": "code",
   "execution_count": 93,
   "metadata": {},
   "outputs": [
    {
     "name": "stdout",
     "output_type": "stream",
     "text": [
      "1\n"
     ]
    },
    {
     "ename": "RecursionError",
     "evalue": "maximum recursion depth exceeded",
     "output_type": "error",
     "traceback": [
      "\u001b[1;31m---------------------------------------------------------------------------\u001b[0m",
      "\u001b[1;31mRecursionError\u001b[0m                            Traceback (most recent call last)",
      "\u001b[1;32mc:\\Users\\Elija\\Documents\\GitHub\\Personal_Projects\\Notes\\colatz.ipynb Cell 4\u001b[0m line \u001b[0;36m3\n\u001b[0;32m      <a href='vscode-notebook-cell:/c%3A/Users/Elija/Documents/GitHub/Personal_Projects/Notes/colatz.ipynb#W1sZmlsZQ%3D%3D?line=0'>1</a>\u001b[0m xdata \u001b[39m=\u001b[39m [num \u001b[39mfor\u001b[39;00m num \u001b[39min\u001b[39;00m \u001b[39mrange\u001b[39m(\u001b[39m1\u001b[39m,\u001b[39m16\u001b[39m)]\n\u001b[0;32m      <a href='vscode-notebook-cell:/c%3A/Users/Elija/Documents/GitHub/Personal_Projects/Notes/colatz.ipynb#W1sZmlsZQ%3D%3D?line=1'>2</a>\u001b[0m ydata \u001b[39m=\u001b[39m [colatz(num) \u001b[39mfor\u001b[39;00m num \u001b[39min\u001b[39;00m xdata]\n\u001b[1;32m----> <a href='vscode-notebook-cell:/c%3A/Users/Elija/Documents/GitHub/Personal_Projects/Notes/colatz.ipynb#W1sZmlsZQ%3D%3D?line=2'>3</a>\u001b[0m ypred \u001b[39m=\u001b[39m [masters_modified(num) \u001b[39mfor\u001b[39;49;00m num \u001b[39min\u001b[39;49;00m xdata]\n\u001b[0;32m      <a href='vscode-notebook-cell:/c%3A/Users/Elija/Documents/GitHub/Personal_Projects/Notes/colatz.ipynb#W1sZmlsZQ%3D%3D?line=3'>4</a>\u001b[0m y2data \u001b[39m=\u001b[39m [\u001b[39m5\u001b[39m \u001b[39m*\u001b[39m np\u001b[39m.\u001b[39mlog(num) \u001b[39mfor\u001b[39;00m num \u001b[39min\u001b[39;00m xdata]\n\u001b[0;32m      <a href='vscode-notebook-cell:/c%3A/Users/Elija/Documents/GitHub/Personal_Projects/Notes/colatz.ipynb#W1sZmlsZQ%3D%3D?line=7'>8</a>\u001b[0m \u001b[39mprint\u001b[39m(colatz(\u001b[39m1\u001b[39m))\n",
      "\u001b[1;32mc:\\Users\\Elija\\Documents\\GitHub\\Personal_Projects\\Notes\\colatz.ipynb Cell 4\u001b[0m line \u001b[0;36m3\n\u001b[0;32m      <a href='vscode-notebook-cell:/c%3A/Users/Elija/Documents/GitHub/Personal_Projects/Notes/colatz.ipynb#W1sZmlsZQ%3D%3D?line=0'>1</a>\u001b[0m xdata \u001b[39m=\u001b[39m [num \u001b[39mfor\u001b[39;00m num \u001b[39min\u001b[39;00m \u001b[39mrange\u001b[39m(\u001b[39m1\u001b[39m,\u001b[39m16\u001b[39m)]\n\u001b[0;32m      <a href='vscode-notebook-cell:/c%3A/Users/Elija/Documents/GitHub/Personal_Projects/Notes/colatz.ipynb#W1sZmlsZQ%3D%3D?line=1'>2</a>\u001b[0m ydata \u001b[39m=\u001b[39m [colatz(num) \u001b[39mfor\u001b[39;00m num \u001b[39min\u001b[39;00m xdata]\n\u001b[1;32m----> <a href='vscode-notebook-cell:/c%3A/Users/Elija/Documents/GitHub/Personal_Projects/Notes/colatz.ipynb#W1sZmlsZQ%3D%3D?line=2'>3</a>\u001b[0m ypred \u001b[39m=\u001b[39m [masters_modified(num) \u001b[39mfor\u001b[39;00m num \u001b[39min\u001b[39;00m xdata]\n\u001b[0;32m      <a href='vscode-notebook-cell:/c%3A/Users/Elija/Documents/GitHub/Personal_Projects/Notes/colatz.ipynb#W1sZmlsZQ%3D%3D?line=3'>4</a>\u001b[0m y2data \u001b[39m=\u001b[39m [\u001b[39m5\u001b[39m \u001b[39m*\u001b[39m np\u001b[39m.\u001b[39mlog(num) \u001b[39mfor\u001b[39;00m num \u001b[39min\u001b[39;00m xdata]\n\u001b[0;32m      <a href='vscode-notebook-cell:/c%3A/Users/Elija/Documents/GitHub/Personal_Projects/Notes/colatz.ipynb#W1sZmlsZQ%3D%3D?line=7'>8</a>\u001b[0m \u001b[39mprint\u001b[39m(colatz(\u001b[39m1\u001b[39m))\n",
      "\u001b[1;32mc:\\Users\\Elija\\Documents\\GitHub\\Personal_Projects\\Notes\\colatz.ipynb Cell 4\u001b[0m line \u001b[0;36m2\n\u001b[0;32m     <a href='vscode-notebook-cell:/c%3A/Users/Elija/Documents/GitHub/Personal_Projects/Notes/colatz.ipynb#W1sZmlsZQ%3D%3D?line=17'>18</a>\u001b[0m     \u001b[39mreturn\u001b[39;00m colatz(n \u001b[39m/\u001b[39m\u001b[39m/\u001b[39m \u001b[39m2\u001b[39m, count\u001b[39m+\u001b[39m\u001b[39m1\u001b[39m)\n\u001b[0;32m     <a href='vscode-notebook-cell:/c%3A/Users/Elija/Documents/GitHub/Personal_Projects/Notes/colatz.ipynb#W1sZmlsZQ%3D%3D?line=18'>19</a>\u001b[0m \u001b[39melse\u001b[39;00m:\n\u001b[1;32m---> <a href='vscode-notebook-cell:/c%3A/Users/Elija/Documents/GitHub/Personal_Projects/Notes/colatz.ipynb#W1sZmlsZQ%3D%3D?line=19'>20</a>\u001b[0m     \u001b[39mreturn\u001b[39;00m colatz((\u001b[39m2\u001b[39;49m\u001b[39m*\u001b[39;49mn)\u001b[39m/\u001b[39;49m\u001b[39m/\u001b[39;49m\u001b[39m3\u001b[39;49m, count\u001b[39m+\u001b[39;49m\u001b[39m1\u001b[39;49m)\n",
      "\u001b[1;32mc:\\Users\\Elija\\Documents\\GitHub\\Personal_Projects\\Notes\\colatz.ipynb Cell 4\u001b[0m line \u001b[0;36m7\n\u001b[0;32m      <a href='vscode-notebook-cell:/c%3A/Users/Elija/Documents/GitHub/Personal_Projects/Notes/colatz.ipynb#W1sZmlsZQ%3D%3D?line=3'>4</a>\u001b[0m     \u001b[39mreturn\u001b[39;00m count\n\u001b[0;32m      <a href='vscode-notebook-cell:/c%3A/Users/Elija/Documents/GitHub/Personal_Projects/Notes/colatz.ipynb#W1sZmlsZQ%3D%3D?line=5'>6</a>\u001b[0m \u001b[39mif\u001b[39;00m n \u001b[39m%\u001b[39m \u001b[39m2\u001b[39m \u001b[39m==\u001b[39m \u001b[39m0\u001b[39m:\n\u001b[1;32m----> <a href='vscode-notebook-cell:/c%3A/Users/Elija/Documents/GitHub/Personal_Projects/Notes/colatz.ipynb#W1sZmlsZQ%3D%3D?line=6'>7</a>\u001b[0m     \u001b[39mreturn\u001b[39;00m colatz(n \u001b[39m/\u001b[39;49m\u001b[39m/\u001b[39;49m \u001b[39m2\u001b[39;49m, count\u001b[39m+\u001b[39;49m\u001b[39m1\u001b[39;49m)\n\u001b[0;32m      <a href='vscode-notebook-cell:/c%3A/Users/Elija/Documents/GitHub/Personal_Projects/Notes/colatz.ipynb#W1sZmlsZQ%3D%3D?line=7'>8</a>\u001b[0m \u001b[39melse\u001b[39;00m:\n\u001b[0;32m      <a href='vscode-notebook-cell:/c%3A/Users/Elija/Documents/GitHub/Personal_Projects/Notes/colatz.ipynb#W1sZmlsZQ%3D%3D?line=8'>9</a>\u001b[0m     \u001b[39mreturn\u001b[39;00m colatz(((\u001b[39m3\u001b[39m\u001b[39m*\u001b[39mn)\u001b[39m+\u001b[39m\u001b[39m1\u001b[39m )\u001b[39m/\u001b[39m\u001b[39m/\u001b[39m\u001b[39m2\u001b[39m, count\u001b[39m+\u001b[39m\u001b[39m1\u001b[39m)\n",
      "\u001b[1;32mc:\\Users\\Elija\\Documents\\GitHub\\Personal_Projects\\Notes\\colatz.ipynb Cell 4\u001b[0m line \u001b[0;36m7\n\u001b[0;32m      <a href='vscode-notebook-cell:/c%3A/Users/Elija/Documents/GitHub/Personal_Projects/Notes/colatz.ipynb#W1sZmlsZQ%3D%3D?line=3'>4</a>\u001b[0m     \u001b[39mreturn\u001b[39;00m count\n\u001b[0;32m      <a href='vscode-notebook-cell:/c%3A/Users/Elija/Documents/GitHub/Personal_Projects/Notes/colatz.ipynb#W1sZmlsZQ%3D%3D?line=5'>6</a>\u001b[0m \u001b[39mif\u001b[39;00m n \u001b[39m%\u001b[39m \u001b[39m2\u001b[39m \u001b[39m==\u001b[39m \u001b[39m0\u001b[39m:\n\u001b[1;32m----> <a href='vscode-notebook-cell:/c%3A/Users/Elija/Documents/GitHub/Personal_Projects/Notes/colatz.ipynb#W1sZmlsZQ%3D%3D?line=6'>7</a>\u001b[0m     \u001b[39mreturn\u001b[39;00m colatz(n \u001b[39m/\u001b[39;49m\u001b[39m/\u001b[39;49m \u001b[39m2\u001b[39;49m, count\u001b[39m+\u001b[39;49m\u001b[39m1\u001b[39;49m)\n\u001b[0;32m      <a href='vscode-notebook-cell:/c%3A/Users/Elija/Documents/GitHub/Personal_Projects/Notes/colatz.ipynb#W1sZmlsZQ%3D%3D?line=7'>8</a>\u001b[0m \u001b[39melse\u001b[39;00m:\n\u001b[0;32m      <a href='vscode-notebook-cell:/c%3A/Users/Elija/Documents/GitHub/Personal_Projects/Notes/colatz.ipynb#W1sZmlsZQ%3D%3D?line=8'>9</a>\u001b[0m     \u001b[39mreturn\u001b[39;00m colatz(((\u001b[39m3\u001b[39m\u001b[39m*\u001b[39mn)\u001b[39m+\u001b[39m\u001b[39m1\u001b[39m )\u001b[39m/\u001b[39m\u001b[39m/\u001b[39m\u001b[39m2\u001b[39m, count\u001b[39m+\u001b[39m\u001b[39m1\u001b[39m)\n",
      "    \u001b[1;31m[... skipping similar frames: colatz at line 7 (2969 times)]\u001b[0m\n",
      "\u001b[1;32mc:\\Users\\Elija\\Documents\\GitHub\\Personal_Projects\\Notes\\colatz.ipynb Cell 4\u001b[0m line \u001b[0;36m7\n\u001b[0;32m      <a href='vscode-notebook-cell:/c%3A/Users/Elija/Documents/GitHub/Personal_Projects/Notes/colatz.ipynb#W1sZmlsZQ%3D%3D?line=3'>4</a>\u001b[0m     \u001b[39mreturn\u001b[39;00m count\n\u001b[0;32m      <a href='vscode-notebook-cell:/c%3A/Users/Elija/Documents/GitHub/Personal_Projects/Notes/colatz.ipynb#W1sZmlsZQ%3D%3D?line=5'>6</a>\u001b[0m \u001b[39mif\u001b[39;00m n \u001b[39m%\u001b[39m \u001b[39m2\u001b[39m \u001b[39m==\u001b[39m \u001b[39m0\u001b[39m:\n\u001b[1;32m----> <a href='vscode-notebook-cell:/c%3A/Users/Elija/Documents/GitHub/Personal_Projects/Notes/colatz.ipynb#W1sZmlsZQ%3D%3D?line=6'>7</a>\u001b[0m     \u001b[39mreturn\u001b[39;00m colatz(n \u001b[39m/\u001b[39;49m\u001b[39m/\u001b[39;49m \u001b[39m2\u001b[39;49m, count\u001b[39m+\u001b[39;49m\u001b[39m1\u001b[39;49m)\n\u001b[0;32m      <a href='vscode-notebook-cell:/c%3A/Users/Elija/Documents/GitHub/Personal_Projects/Notes/colatz.ipynb#W1sZmlsZQ%3D%3D?line=7'>8</a>\u001b[0m \u001b[39melse\u001b[39;00m:\n\u001b[0;32m      <a href='vscode-notebook-cell:/c%3A/Users/Elija/Documents/GitHub/Personal_Projects/Notes/colatz.ipynb#W1sZmlsZQ%3D%3D?line=8'>9</a>\u001b[0m     \u001b[39mreturn\u001b[39;00m colatz(((\u001b[39m3\u001b[39m\u001b[39m*\u001b[39mn)\u001b[39m+\u001b[39m\u001b[39m1\u001b[39m )\u001b[39m/\u001b[39m\u001b[39m/\u001b[39m\u001b[39m2\u001b[39m, count\u001b[39m+\u001b[39m\u001b[39m1\u001b[39m)\n",
      "\u001b[1;31mRecursionError\u001b[0m: maximum recursion depth exceeded"
     ]
    }
   ],
   "source": [
    "xdata = [num for num in range(1,16)]\n",
    "ydata = [colatz(num) for num in xdata]\n",
    "ypred = [masters_modified(num) for num in xdata]\n",
    "y2data = [5 * np.log(num) for num in xdata]\n",
    "\n",
    "\n",
    "\n",
    "print(colatz(1))\n",
    "\n",
    "plt.plot(xdata, ydata)\n",
    "plt.plot(xdata, y2data)\n",
    "\n",
    "#plot log\n",
    "# plt.yscale('log')\n",
    "# plt.xscale('log')\n",
    "\n",
    "#print first 10\n",
    "print(ydata[:10])\n"
   ]
  }
 ],
 "metadata": {
  "kernelspec": {
   "display_name": "Python 3",
   "language": "python",
   "name": "python3"
  },
  "language_info": {
   "codemirror_mode": {
    "name": "ipython",
    "version": 3
   },
   "file_extension": ".py",
   "mimetype": "text/x-python",
   "name": "python",
   "nbconvert_exporter": "python",
   "pygments_lexer": "ipython3",
   "version": "3.11.6"
  }
 },
 "nbformat": 4,
 "nbformat_minor": 2
}
